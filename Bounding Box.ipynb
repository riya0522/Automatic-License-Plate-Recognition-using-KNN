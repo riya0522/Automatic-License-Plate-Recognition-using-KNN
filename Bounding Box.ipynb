{
 "cells": [
  {
   "cell_type": "code",
   "execution_count": 13,
   "metadata": {},
   "outputs": [
    {
     "name": "stdout",
     "output_type": "stream",
     "text": [
      "<VideoCapture 0000004E1B9A4B90>\n"
     ]
    }
   ],
   "source": [
    "import cv2\n",
    "import imutils\n",
    "vidcap = cv2.VideoCapture(\"Test Video.mp4\") #get image\n",
    "print (vidcap);\n",
    "\n",
    "#Function to get frames from the video\n",
    "def getFrame(sec):\n",
    "    vidcap.set(cv2.CAP_PROP_POS_MSEC,sec*1000) \n",
    "    hasFrames,image = vidcap.read() #read video if frames avbl\n",
    "    if hasFrames:\n",
    "        cv2.imwrite(\"photos/frame \"+str(sec)+\" sec.jpg\", image)     # save frame as JPG file\n",
    "        \n",
    "    return hasFrames\n",
    "\n",
    "sec = 0\n",
    "frameRate = 1 #it will capture image in each 1 second\n",
    "success = getFrame(sec)\n",
    "while success:\n",
    "    sec = sec + frameRate\n",
    "    sec = round(sec, 2)\n",
    "    success = getFrame(sec)\n",
    "\n",
    "    "
   ]
  },
  {
   "cell_type": "code",
   "execution_count": 15,
   "metadata": {},
   "outputs": [],
   "source": [
    "for idx in range(0,40):\n",
    "    image = cv2.imread(\"photos/frame \"+str(idx)+\" sec.jpg\")\n",
    "    #print (image)\n",
    "    \n",
    "    image = imutils.resize(image, width=500) #gets it into feasible aspect ratio\n",
    "\n",
    "    #original image\n",
    "    #cv2.imshow(\"Original Image\", image)\n",
    "    #cv2.waitKey(0) #waits till a key is pressed\n",
    "    # RGB to Gray scale conversion\n",
    "    gray = cv2.cvtColor(image, cv2.COLOR_BGR2GRAY)\n",
    "    \n",
    "    # Remove Noise, Sharpness (Averaging)\n",
    "    gray = cv2.bilateralFilter(gray, 11, 17, 17)\n",
    "    \n",
    "    # Find Edges of the grayscale image - Canny Edge Detection \n",
    "    edged = cv2.Canny(gray, 170, 200)\n",
    "    \n",
    "    # Find number contours based on Edges\n",
    "    cnts, new  = cv2.findContours(edged.copy(), cv2.RETR_LIST, cv2.CHAIN_APPROX_SIMPLE)\n",
    "    \n",
    "    # Create copy of original image to draw all contours\n",
    "    #we create a copy so as to not destroy the original image\n",
    "    img1 = image.copy()\n",
    "    cv2.drawContours(img1, cnts, -1, (0,255,0), 3)\n",
    "    \n",
    "    #sort contours based on their area keeping minimum required area as '30' (anything smaller than this will not be considered)\n",
    "    #max to min sorting\n",
    "    cnts=sorted(cnts, key = cv2.contourArea, reverse = True)[:30]\n",
    "    NumberPlateCnt = None \n",
    "\n",
    "    # Top 30 Contours\n",
    "    img2 = image.copy()\n",
    "    cv2.drawContours(img2, cnts, -1, (0,255,0), 3)\n",
    "\n",
    "    # loop over each of thr top 30 contours \n",
    "    #find the best possible approximate contour of number plate\n",
    "    \n",
    "    for c in cnts:\n",
    "            peri = cv2.arcLength(c, True) #find perimeter\n",
    "            approx = cv2.approxPolyDP(c, 0.02 * peri, True) #no. of edges for each contour\n",
    "            if len(approx) == 4:  # Select the contour with 4 corners\n",
    "                NumberPlateCnt = approx #This is our approx Number Plate Contour\n",
    "\n",
    "                #crop according to coordinates - our ROI\n",
    "                x, y, w, h = cv2.boundingRect(c) #This will find out co-ord for plate\n",
    "                new_img = gray[y:y + h, x:x + w] #crop the grayscale image\n",
    "                #cv2.imwrite('BoundedBox/' + str(idx) + '.jpg', new_img) #Store new image\n",
    "                #idx+=1\n",
    "\n",
    "                break\n",
    "\n",
    "    # Drawing the selected contour on the original image\n",
    "     #\n",
    "    \n",
    "    if NumberPlateCnt is None:\n",
    "        continue;\n",
    "    cv2.drawContours(image, [NumberPlateCnt], -1, (0,255,0), 3)\n",
    "    #cv2.imshow(\"Final Image With Number Plate Detected\", image)\n",
    "    #cv2.waitKey(0)\n",
    "    \n",
    "    cv2.imwrite('BoundedBox/' + str(idx) + '.jpg', new_img) #Store new image\n",
    "    #cv2.imshow(\"Cropped Image \", new_img)\n",
    "    #cv2.waitKey(0)\n",
    "    #print(idx)\n",
    "    #idx = idx + 1\n",
    "    \n",
    "    # Resize"
   ]
  },
  {
   "cell_type": "code",
   "execution_count": null,
   "metadata": {},
   "outputs": [],
   "source": []
  },
  {
   "cell_type": "code",
   "execution_count": null,
   "metadata": {},
   "outputs": [],
   "source": []
  },
  {
   "cell_type": "code",
   "execution_count": null,
   "metadata": {},
   "outputs": [],
   "source": []
  }
 ],
 "metadata": {
  "kernelspec": {
   "display_name": "Python 3",
   "language": "python",
   "name": "python3"
  },
  "language_info": {
   "codemirror_mode": {
    "name": "ipython",
    "version": 3
   },
   "file_extension": ".py",
   "mimetype": "text/x-python",
   "name": "python",
   "nbconvert_exporter": "python",
   "pygments_lexer": "ipython3",
   "version": "3.7.4"
  }
 },
 "nbformat": 4,
 "nbformat_minor": 2
}
